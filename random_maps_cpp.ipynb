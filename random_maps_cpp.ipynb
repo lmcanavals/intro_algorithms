{
  "nbformat": 4,
  "nbformat_minor": 0,
  "metadata": {
    "colab": {
      "provenance": [],
      "collapsed_sections": [],
      "authorship_tag": "ABX9TyO+PvYF5htha4zpbC/vY4Uh",
      "include_colab_link": true
    },
    "kernelspec": {
      "name": "python3",
      "display_name": "Python 3"
    },
    "language_info": {
      "name": "python"
    }
  },
  "cells": [
    {
      "cell_type": "markdown",
      "metadata": {
        "id": "view-in-github",
        "colab_type": "text"
      },
      "source": [
        "<a href=\"https://colab.research.google.com/github/lmcanavals/intro_algorithms/blob/main/random_maps_cpp.ipynb\" target=\"_parent\"><img src=\"https://colab.research.google.com/assets/colab-badge.svg\" alt=\"Open In Colab\"/></a>"
      ]
    },
    {
      "cell_type": "markdown",
      "source": [
        "# Laberintos aleatorios"
      ],
      "metadata": {
        "id": "oBAHPDCbi0sE"
      }
    },
    {
      "cell_type": "markdown",
      "source": [
        "`rows` y `cols` deben ser impares, el estado inicial es el siguiente:\n",
        "```\n",
        "0000000\n",
        "0101010\n",
        "0000000\n",
        "0101010\n",
        "0000000\n",
        "```"
      ],
      "metadata": {
        "id": "xQIaZ-zojK1W"
      }
    },
    {
      "cell_type": "code",
      "execution_count": 144,
      "metadata": {
        "colab": {
          "base_uri": "https://localhost:8080/"
        },
        "id": "sr9Hjy6ni0JO",
        "outputId": "e2c16773-808b-4cd6-d9a3-ce4d478c6f24"
      },
      "outputs": [
        {
          "output_type": "stream",
          "name": "stdout",
          "text": [
            "Overwriting randmap.h\n"
          ]
        }
      ],
      "source": [
        "%%file randmap.h\n",
        "// copiar todo éste código a un archivo llamado randmap.h sin las 2 primeras lineas\n",
        "#ifndef __RANDMAP_H__\n",
        "#define __RANDMAP_H__\n",
        "\n",
        "#include <stdlib.h>\n",
        "\n",
        "struct Vert {\n",
        "    int* v;\n",
        "    int n;\n",
        "};\n",
        "\n",
        "void shuffle(int* a, int n) {\n",
        "    for (int i = n - 1; i > 0; --i) {\n",
        "        int randomPos = rand() % i;\n",
        "        int temp = a[i];\n",
        "        a[i] = a[randomPos];\n",
        "        a[randomPos] = temp;\n",
        "    }\n",
        "}\n",
        "\n",
        "int** randLab(int rows, int cols) {\n",
        "    if (rows % 2 == 0) --rows;\n",
        "    if (cols % 2 == 0) --cols;\n",
        "\n",
        "    int n = rows / 2;\n",
        "    int m = cols / 2;\n",
        "    Vert* G = new Vert[n*m];\n",
        "    int p, q;\n",
        "    for (int i = 0; i < n; ++i)  {\n",
        "        for (int j = 0; j < m; ++j) {\n",
        "            int u = i * m + j;\n",
        "            G[u].v = new int[4];\n",
        "            G[u].n = 0;\n",
        "            p = i - 1; q = j;\n",
        "            if (!(p < 0 || p >= n || q < 0 || q >= m)) G[u].v[G[u].n++] = p * m + q;\n",
        "            p = i;     q = j - 1;\n",
        "            if (!(p < 0 || p >= n || q < 0 || q >= m)) G[u].v[G[u].n++] = p * m + q;\n",
        "            p = i + 1; q = j;\n",
        "            if (!(p < 0 || p >= n || q < 0 || q >= m)) G[u].v[G[u].n++] = p * m + q;\n",
        "            p = i;     q = j + 1;\n",
        "            if (!(p < 0 || p >= n || q < 0 || q >= m)) G[u].v[G[u].n++] = p * m + q;\n",
        "        }\n",
        "    }\n",
        "\n",
        "    bool* visited = new bool[n*m];\n",
        "    int* path = new int[n*m];\n",
        "    int* stack = new int[n*m];\n",
        "    int ns = 0;\n",
        "    for (int i = 0; i < n*m; ++i) {\n",
        "        visited[i] = false;\n",
        "        path[i] = -1;\n",
        "    }\n",
        "    stack[ns++] = 0;\n",
        "\n",
        "    while (ns) {\n",
        "        int u = stack[--ns];\n",
        "        for (int i = 0; i < G[u].n; ++i) {\n",
        "            int v = G[u].v[i];\n",
        "            if (!visited[v]) {\n",
        "                visited[v] = true;\n",
        "                stack[ns++] = v;\n",
        "                path[v] = u;\n",
        "            }\n",
        "        }\n",
        "        shuffle(stack, ns);\n",
        "    }\n",
        "\n",
        "    int** lab = new int*[rows];\n",
        "    for (int i = 0; i < rows; ++i) {\n",
        "        lab[i] = new int[cols];\n",
        "        for (int j = 0; j < cols; ++j) {\n",
        "            lab[i][j] = !(i % 2 == 1 && j % 2 == 1) * 3;\n",
        "        }\n",
        "    }\n",
        "\n",
        "    for (int u = 0; u < n*m; ++u) {\n",
        "        if (path[u] < 0) continue;\n",
        "        int v = path[u];\n",
        "        int i0 = (u / m) * 2 + 1;\n",
        "        int j0 = (u % m) * 2 + 1;\n",
        "        int i1 = (v / m) * 2 + 1;\n",
        "        int j1 = (v % m) * 2 + 1;\n",
        "        if (i0 == i1) {\n",
        "            lab[i0][(j0 + j1) / 2] = 0;\n",
        "        } else {\n",
        "            lab[(i0 + i1) / 2][j0] = 0;\n",
        "        }\n",
        "    }\n",
        "    for (int i = 0; i < rows; ++i) {\n",
        "        for (int j = 0; j < cols; ++j) {\n",
        "            if (lab[i][j] != 0) {\n",
        "                lab[i][j] = 0;\n",
        "                p = i - 1; q = j;\n",
        "                if (!(p < 0 || p >= rows || q < 0 || q >= cols) && lab[p][q] != 0) {\n",
        "                    lab[i][j] = 1;\n",
        "                }\n",
        "                p = i + 1; q = j;\n",
        "                if (!(p < 0 || p >= rows || q < 0 || q >= cols) && lab[p][q] != 0) {\n",
        "                    lab[i][j] = 1;\n",
        "                }\n",
        "                p = i;     q = j - 1;\n",
        "                if (!(p < 0 || p >= rows || q < 0 || q >= cols) && lab[p][q] != 0) {\n",
        "                    lab[i][j] |= 2;\n",
        "                }\n",
        "                p = i;     q = j + 1;\n",
        "                if (!(p < 0 || p >= rows || q < 0 || q >= cols) && lab[p][q] != 0) {\n",
        "                    lab[i][j] |= 2;\n",
        "                }\n",
        "            }\n",
        "        }\n",
        "    }\n",
        "\n",
        "    delete[] visited;\n",
        "    delete[] path;\n",
        "    for (int i = 0; i < n*m; ++i) {\n",
        "        delete[] G[i].v;\n",
        "    }\n",
        "    delete[] G;\n",
        "    delete[] stack;\n",
        "\n",
        "    return lab;\n",
        "}\n",
        "\n",
        "#endif"
      ]
    },
    {
      "cell_type": "code",
      "source": [
        "%%file randmaptest.cpp\n",
        "#include <iostream>\n",
        "\n",
        "using namespace std;\n",
        "\n",
        "#include \"randmap.h\"\n",
        "\n",
        "int main() {\n",
        "    srand(time(nullptr));\n",
        "    int rows = 15;\n",
        "    int cols = 37;\n",
        "    int** lab = randLab(rows, cols);\n",
        "    char glyphs[] = { ' ', '|', '-', '+' };\n",
        "\n",
        "    \n",
        "    for (int i = 0; i < rows; ++i) {\n",
        "        for (int j = 0; j < cols; ++j) {\n",
        "            cout << glyphs[lab[i][j]];\n",
        "        }\n",
        "        cout << endl;\n",
        "    }\n",
        "    \n",
        "    for (int i = 0; i < rows; ++i) {\n",
        "        delete[] lab[i];\n",
        "    }\n",
        "    delete[] lab;\n",
        "\n",
        "    return 0;\n",
        "}"
      ],
      "metadata": {
        "colab": {
          "base_uri": "https://localhost:8080/"
        },
        "id": "9cekj70myYTL",
        "outputId": "f06db85a-5f89-4f90-85ce-fda745dccd4a"
      },
      "execution_count": 161,
      "outputs": [
        {
          "output_type": "stream",
          "name": "stdout",
          "text": [
            "Overwriting randmaptest.cpp\n"
          ]
        }
      ]
    },
    {
      "cell_type": "code",
      "source": [
        "!g++ randmaptest.cpp && ./a.out"
      ],
      "metadata": {
        "colab": {
          "base_uri": "https://localhost:8080/"
        },
        "id": "oJaaRxq4CiKP",
        "outputId": "4323fb65-ae43-4af8-fa03-a08a6f7b8877"
      },
      "execution_count": 162,
      "outputs": [
        {
          "output_type": "stream",
          "name": "stdout",
          "text": [
            "+-----------------------------+-+---+\n",
            "|                             | |   |\n",
            "| --+ ----------+-----+-+---+-+ | --+\n",
            "|   |           |     | |   | |     |\n",
            "| --+-+ | ------+ ----+ | --+ | ----+\n",
            "|     | |                           |\n",
            "| | --+-+-+ --+ | --+ | --+ | ----+ |\n",
            "| |       |   | |   | |   | |     | |\n",
            "+-+ --+ --+ --+-+ --+-+ --+-+-+ --+-+\n",
            "|     |   |     |     |       |   | |\n",
            "+-- --+ --+ ----+-+---+---+ --+ --+ |\n",
            "|     |   |       |       |   |     |\n",
            "| | --+ | | | | --+ ------+ --+ | --+\n",
            "| |   | | | | |           |   | |   |\n",
            "+-+---+-+-+-+-+-----------+---+-+---+\n"
          ]
        }
      ]
    },
    {
      "cell_type": "code",
      "source": [],
      "metadata": {
        "id": "ERza54VuCk1f"
      },
      "execution_count": 160,
      "outputs": []
    }
  ]
}